{
  "nbformat": 4,
  "nbformat_minor": 0,
  "metadata": {
    "colab": {
      "provenance": [],
      "gpuType": "T4"
    },
    "kernelspec": {
      "name": "python3",
      "display_name": "Python 3"
    },
    "language_info": {
      "name": "python"
    },
    "accelerator": "GPU",
    "gpuClass": "standard"
  },
  "cells": [
    {
      "cell_type": "code",
      "execution_count": 1,
      "metadata": {
        "id": "6SaEVKzA2Eb7"
      },
      "outputs": [],
      "source": [
        "# Import Libraries\n",
        "import torch\n",
        "import torch.nn as nn\n",
        "import torch.optim as optim\n",
        "import torchvision.transforms as transforms\n",
        "import torchvision.datasets as datasets\n",
        "from torch.utils.data import DataLoader\n",
        "from torchvision.models import resnet50\n",
        "from tqdm import tqdm"
      ]
    },
    {
      "cell_type": "code",
      "source": [
        "# Mount Google Drive to access the dataset\n",
        "from google.colab import drive\n",
        "drive.mount('/content/gdrive')"
      ],
      "metadata": {
        "colab": {
          "base_uri": "https://localhost:8080/"
        },
        "id": "wXGcCikj2OT2",
        "outputId": "0123f9a7-8302-490d-cb9e-488f3ceaf657"
      },
      "execution_count": 2,
      "outputs": [
        {
          "output_type": "stream",
          "name": "stdout",
          "text": [
            "Mounted at /content/gdrive\n"
          ]
        }
      ]
    },
    {
      "cell_type": "code",
      "source": [
        "# Set the device\n",
        "device = torch.device('cuda' if torch.cuda.is_available() else 'cpu')"
      ],
      "metadata": {
        "id": "AkjgFcNP2Oy-"
      },
      "execution_count": 3,
      "outputs": []
    },
    {
      "cell_type": "code",
      "source": [
        "# Define transforms for the data\n",
        "transform = transforms.Compose([\n",
        "    transforms.Resize((224, 224)),\n",
        "    transforms.ToTensor(),\n",
        "    transforms.Normalize((0.5, 0.5, 0.5), (0.5, 0.5, 0.5))  # normalize to [-1, 1]\n",
        "])"
      ],
      "metadata": {
        "id": "ihSajFf62SYN"
      },
      "execution_count": 4,
      "outputs": []
    },
    {
      "cell_type": "code",
      "source": [
        "# Define dataset and data loader for training\n",
        "train_data_dir = '/content/gdrive/MyDrive/Lemon_quality_classification/lemon_dataset/train'\n",
        "train_dataset = datasets.ImageFolder(train_data_dir, transform=transform)\n",
        "train_loader = DataLoader(train_dataset, batch_size=32, shuffle=True)"
      ],
      "metadata": {
        "id": "snJekajM2VcG"
      },
      "execution_count": 5,
      "outputs": []
    },
    {
      "cell_type": "code",
      "source": [
        "# Define dataset and data loader for validation\n",
        "val_data_dir = '/content/gdrive/MyDrive/Lemon_quality_classification/lemon_dataset/val'\n",
        "val_dataset = datasets.ImageFolder(val_data_dir, transform=transform)\n",
        "val_loader = DataLoader(val_dataset, batch_size=32, shuffle=False)"
      ],
      "metadata": {
        "id": "1cy91uyg2cUe"
      },
      "execution_count": 6,
      "outputs": []
    },
    {
      "cell_type": "code",
      "source": [
        "# Define ResNet model\n",
        "model = resnet50(pretrained=True)\n",
        "num_features = model.fc.in_features\n",
        "num_classes = len(train_dataset.classes)\n",
        "model.fc = nn.Linear(num_features, num_classes)  # Replace the fully connected layer\n",
        "model = model.to(device)"
      ],
      "metadata": {
        "colab": {
          "base_uri": "https://localhost:8080/"
        },
        "id": "qjgcDrhe2eOt",
        "outputId": "373fb53a-9935-4b67-d73b-dc481d5bfbe3"
      },
      "execution_count": 7,
      "outputs": [
        {
          "output_type": "stream",
          "name": "stderr",
          "text": [
            "/usr/local/lib/python3.10/dist-packages/torchvision/models/_utils.py:208: UserWarning: The parameter 'pretrained' is deprecated since 0.13 and may be removed in the future, please use 'weights' instead.\n",
            "  warnings.warn(\n",
            "/usr/local/lib/python3.10/dist-packages/torchvision/models/_utils.py:223: UserWarning: Arguments other than a weight enum or `None` for 'weights' are deprecated since 0.13 and may be removed in the future. The current behavior is equivalent to passing `weights=ResNet50_Weights.IMAGENET1K_V1`. You can also use `weights=ResNet50_Weights.DEFAULT` to get the most up-to-date weights.\n",
            "  warnings.warn(msg)\n",
            "Downloading: \"https://download.pytorch.org/models/resnet50-0676ba61.pth\" to /root/.cache/torch/hub/checkpoints/resnet50-0676ba61.pth\n",
            "100%|██████████| 97.8M/97.8M [00:00<00:00, 183MB/s]\n"
          ]
        }
      ]
    },
    {
      "cell_type": "code",
      "source": [
        "# Define loss function and optimizer\n",
        "criterion = nn.CrossEntropyLoss()\n",
        "optimizer = optim.Adam(model.parameters(), lr=0.001)"
      ],
      "metadata": {
        "id": "1Fm5zdap2glt"
      },
      "execution_count": 8,
      "outputs": []
    },
    {
      "cell_type": "code",
      "source": [
        "# Training loop\n",
        "num_epochs = 5\n",
        "checkpoint_interval = 2  # Save the model every 2 epochs\n",
        "checkpoint_path = '/content/gdrive/MyDrive/Lemon_quality_classification/checkpoints/model.pth'\n",
        "\n",
        "for epoch in range(num_epochs):\n",
        "    # Training phase\n",
        "    model.train()\n",
        "    running_loss = 0.0\n",
        "    correct_predictions = 0\n",
        "    total_predictions = 0\n",
        "\n",
        "    progress_bar = tqdm(train_loader, desc=f'Epoch {epoch+1}/{num_epochs} - Training', unit='batch')\n",
        "\n",
        "    for images, labels in progress_bar:\n",
        "        images = images.to(device)\n",
        "        labels = labels.to(device)\n",
        "\n",
        "        optimizer.zero_grad()\n",
        "\n",
        "        # Forward pass\n",
        "        outputs = model(images)\n",
        "        loss = criterion(outputs, labels)\n",
        "\n",
        "        # Backward pass and optimize\n",
        "        loss.backward()\n",
        "        optimizer.step()\n",
        "\n",
        "        running_loss += loss.item()\n",
        "\n",
        "        _, predicted = torch.max(outputs, 1)\n",
        "        total_predictions += labels.size(0)\n",
        "        correct_predictions += (predicted == labels).sum().item()\n",
        "\n",
        "        progress_bar.set_postfix({'Loss': running_loss / len(train_loader), 'Train Accuracy': f'{100 * correct_predictions / total_predictions:.2f}'})\n",
        "\n",
        "    # Validation phase\n",
        "    model.eval()\n",
        "    val_loss = 0.0\n",
        "    val_correct_predictions = 0\n",
        "    val_total_predictions = 0\n",
        "\n",
        "    val_progress_bar = tqdm(val_loader, desc=f'Epoch {epoch+1}/{num_epochs} - Validation', unit='batch')\n",
        "\n",
        "    with torch.no_grad():\n",
        "        for val_images, val_labels in val_progress_bar:\n",
        "            val_images = val_images.to(device)\n",
        "            val_labels = val_labels.to(device)\n",
        "\n",
        "            val_outputs = model(val_images)\n",
        "            val_loss += criterion(val_outputs, val_labels).item()\n",
        "\n",
        "            _, val_predicted = torch.max(val_outputs, 1)\n",
        "            val_total_predictions += val_labels.size(0)\n",
        "            val_correct_predictions += (val_predicted == val_labels).sum().item()\n",
        "\n",
        "            val_progress_bar.set_postfix({'Val Loss': val_loss / len(val_loader), 'Val Accuracy': f'{100 * val_correct_predictions / val_total_predictions:.2f}'})\n",
        "\n",
        "    if (epoch + 1) % checkpoint_interval == 0:\n",
        "        # Save the model checkpoint\n",
        "        torch.save(model.state_dict(), checkpoint_path)\n",
        "        print(f\"Checkpoint saved at epoch {epoch+1}\")\n",
        "\n",
        "print(\"Training completed!\")"
      ],
      "metadata": {
        "colab": {
          "base_uri": "https://localhost:8080/"
        },
        "id": "TYjAB2MJ2k7u",
        "outputId": "68a86c3d-9ed4-48aa-ed79-3ce1a879f547"
      },
      "execution_count": 9,
      "outputs": [
        {
          "output_type": "stream",
          "name": "stderr",
          "text": [
            "Epoch 1/5 - Training: 100%|██████████| 56/56 [04:40<00:00,  5.01s/batch, Loss=0.208, Train Accuracy=93.33]\n",
            "Epoch 1/5 - Validation: 100%|██████████| 12/12 [01:20<00:00,  6.70s/batch, Val Loss=0.456, Val Accuracy=88.95]\n",
            "Epoch 2/5 - Training: 100%|██████████| 56/56 [00:27<00:00,  2.05batch/s, Loss=0.0835, Train Accuracy=97.23]\n",
            "Epoch 2/5 - Validation: 100%|██████████| 12/12 [00:03<00:00,  3.88batch/s, Val Loss=0.0183, Val Accuracy=99.47]\n"
          ]
        },
        {
          "output_type": "stream",
          "name": "stdout",
          "text": [
            "Checkpoint saved at epoch 2\n"
          ]
        },
        {
          "output_type": "stream",
          "name": "stderr",
          "text": [
            "Epoch 3/5 - Training: 100%|██████████| 56/56 [00:27<00:00,  2.01batch/s, Loss=0.0616, Train Accuracy=98.02]\n",
            "Epoch 3/5 - Validation: 100%|██████████| 12/12 [00:03<00:00,  3.77batch/s, Val Loss=0.0602, Val Accuracy=97.89]\n",
            "Epoch 4/5 - Training: 100%|██████████| 56/56 [00:27<00:00,  2.01batch/s, Loss=0.0578, Train Accuracy=97.91]\n",
            "Epoch 4/5 - Validation: 100%|██████████| 12/12 [00:03<00:00,  3.45batch/s, Val Loss=0.016, Val Accuracy=99.47]\n"
          ]
        },
        {
          "output_type": "stream",
          "name": "stdout",
          "text": [
            "Checkpoint saved at epoch 4\n"
          ]
        },
        {
          "output_type": "stream",
          "name": "stderr",
          "text": [
            "Epoch 5/5 - Training: 100%|██████████| 56/56 [00:27<00:00,  2.02batch/s, Loss=0.0175, Train Accuracy=99.49]\n",
            "Epoch 5/5 - Validation: 100%|██████████| 12/12 [00:03<00:00,  3.93batch/s, Val Loss=0.0126, Val Accuracy=99.47]"
          ]
        },
        {
          "output_type": "stream",
          "name": "stdout",
          "text": [
            "Training completed!\n"
          ]
        },
        {
          "output_type": "stream",
          "name": "stderr",
          "text": [
            "\n"
          ]
        }
      ]
    },
    {
      "cell_type": "code",
      "source": [
        "# Save the final trained model\n",
        "final_model_path = '/content/gdrive/MyDrive/Lemon_quality_classification/model.pth'\n",
        "torch.save(model.state_dict(), final_model_path)"
      ],
      "metadata": {
        "id": "JFjReyMA2uH_"
      },
      "execution_count": 10,
      "outputs": []
    },
    {
      "cell_type": "code",
      "source": [],
      "metadata": {
        "id": "1AgWznfWIWh0"
      },
      "execution_count": null,
      "outputs": []
    }
  ]
}